{
 "cells": [
  {
   "cell_type": "code",
   "execution_count": 1,
   "id": "4e9582fa",
   "metadata": {},
   "outputs": [],
   "source": [
    "import time"
   ]
  },
  {
   "cell_type": "code",
   "execution_count": 8,
   "id": "b84d2acf",
   "metadata": {},
   "outputs": [],
   "source": [
    "setContainer = {i for i in range(1000)}\n",
    "listContainer = [i for i in range(1000)]"
   ]
  },
  {
   "cell_type": "code",
   "execution_count": 9,
   "id": "46abbd8e",
   "metadata": {},
   "outputs": [],
   "source": [
    "def search(container, k):\n",
    "    check = 0\n",
    "    for i in container:\n",
    "        if i == k:\n",
    "            check += 1\n",
    "    if check >=1:\n",
    "        return True\n",
    "    else:\n",
    "        return False"
   ]
  },
  {
   "cell_type": "code",
   "execution_count": 10,
   "id": "51f35690",
   "metadata": {},
   "outputs": [
    {
     "name": "stdout",
     "output_type": "stream",
     "text": [
      "True\n"
     ]
    }
   ],
   "source": [
    "print(search(setContainer,5))"
   ]
  },
  {
   "cell_type": "code",
   "execution_count": 11,
   "id": "a90695ee",
   "metadata": {},
   "outputs": [
    {
     "name": "stdout",
     "output_type": "stream",
     "text": [
      "False\n"
     ]
    }
   ],
   "source": [
    "print(search(setContainer,1000))"
   ]
  },
  {
   "cell_type": "code",
   "execution_count": 12,
   "id": "884ec0b5",
   "metadata": {},
   "outputs": [
    {
     "name": "stdout",
     "output_type": "stream",
     "text": [
      "True\n"
     ]
    }
   ],
   "source": [
    "print(search(listContainer,5))"
   ]
  },
  {
   "cell_type": "code",
   "execution_count": 13,
   "id": "b3b3d82f",
   "metadata": {},
   "outputs": [
    {
     "name": "stdout",
     "output_type": "stream",
     "text": [
      "True\n"
     ]
    }
   ],
   "source": [
    "print(search(listContainer,101))"
   ]
  },
  {
   "cell_type": "code",
   "execution_count": 14,
   "id": "9b83d058",
   "metadata": {},
   "outputs": [],
   "source": [
    "def performance(func,container, k, how_many = 1):\n",
    "    A = []\n",
    "    for i in range(how_many):\n",
    "        start = time.perf_counter()\n",
    "        func(container,k)\n",
    "        end = time.perf_counter()\n",
    "        A.append(end-start)\n",
    "    return A"
   ]
  },
  {
   "cell_type": "code",
   "execution_count": 16,
   "id": "893131cd",
   "metadata": {},
   "outputs": [
    {
     "name": "stdout",
     "output_type": "stream",
     "text": [
      "[0.00012119999155402184, 0.00011869997251778841, 0.00011880008969455957, 0.00011530006304383278, 0.00011120003182440996]\n"
     ]
    }
   ],
   "source": [
    "print(performance(search,listContainer,5,how_many = 5))"
   ]
  },
  {
   "cell_type": "code",
   "execution_count": 17,
   "id": "66aabf9f",
   "metadata": {},
   "outputs": [
    {
     "name": "stdout",
     "output_type": "stream",
     "text": [
      "[0.00012800004333257675, 0.00010019994806498289, 0.0001227000029757619, 0.00010699999984353781, 9.570003021508455e-05]\n"
     ]
    }
   ],
   "source": [
    "print(performance(search,setContainer,5,how_many = 5))"
   ]
  },
  {
   "cell_type": "code",
   "execution_count": null,
   "id": "f4eaee17",
   "metadata": {},
   "outputs": [],
   "source": [
    "def search(container, k):\n",
    "    check = 0\n",
    "    for i in container:\n",
    "        if i == k:\n",
    "            check += 1\n",
    "    if check >=1:\n",
    "        return True\n",
    "    else:\n",
    "        return False"
   ]
  }
 ],
 "metadata": {
  "kernelspec": {
   "display_name": "Python 3 (ipykernel)",
   "language": "python",
   "name": "python3"
  },
  "language_info": {
   "codemirror_mode": {
    "name": "ipython",
    "version": 3
   },
   "file_extension": ".py",
   "mimetype": "text/x-python",
   "name": "python",
   "nbconvert_exporter": "python",
   "pygments_lexer": "ipython3",
   "version": "3.10.4"
  }
 },
 "nbformat": 4,
 "nbformat_minor": 5
}
