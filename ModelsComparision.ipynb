{
 "cells": [
  {
   "cell_type": "code",
   "execution_count": 1,
   "id": "05fbddb7",
   "metadata": {},
   "outputs": [],
   "source": [
    "import pandas as pd\n",
    "\n",
    #https://qoe.agh.edu.pl/pl/indicators/
    "from sklearn.neural_network import MLPClassifier\n",
    "from sklearn.neighbors import KNeighborsClassifier\n",
    "from sklearn.svm import SVC\n",
    "from sklearn.gaussian_process import GaussianProcessClassifier\n",
    "from sklearn.ensemble import GradientBoostingClassifier\n",
    "from sklearn.gaussian_process.kernels import RBF\n",
    "from sklearn.tree import DecisionTreeClassifier\n",
    "from sklearn.ensemble import ExtraTreesClassifier\n",
    "from sklearn.ensemble import RandomForestClassifier, AdaBoostClassifier\n",
    "from sklearn.naive_bayes import GaussianNB\n",
    "from sklearn.discriminant_analysis import QuadraticDiscriminantAnalysis\n",
    "from sklearn.linear_model import SGDClassifier\n"
   ]
  },
  {
   "cell_type": "code",
   "execution_count": 2,
   "id": "742e4065",
   "metadata": {},
   "outputs": [],
   "source": [
    "columns_name = [\n",
    "    'Blockiness',\n",
    "    'SA',\n",
    "    'Blockloss',\n",
    "    'Blur',\n",
    "    'TA',\n",
    "    'Exposure',\n",
    "    'Contrast',\n",
    "    'Noise',\n",
    "    'Slice',\n",
    "    'Flickering'\n",
    "]\n",
    "\n",
    "column_name = ['Category']"
   ]
  },
  {
   "cell_type": "code",
   "execution_count": 3,
   "id": "9e06160b",
   "metadata": {},
   "outputs": [
    {
     "data": {
      "text/html": [
       "<div>\n",
       "<style scoped>\n",
       "    .dataframe tbody tr th:only-of-type {\n",
       "        vertical-align: middle;\n",
       "    }\n",
       "\n",
       "    .dataframe tbody tr th {\n",
       "        vertical-align: top;\n",
       "    }\n",
       "\n",
       "    .dataframe thead th {\n",
       "        text-align: right;\n",
       "    }\n",
       "</style>\n",
       "<table border=\"1\" class=\"dataframe\">\n",
       "  <thead>\n",
       "    <tr style=\"text-align: right;\">\n",
       "      <th></th>\n",
       "      <th>Blockiness</th>\n",
       "      <th>SA</th>\n",
       "      <th>Blockloss</th>\n",
       "      <th>Blur</th>\n",
       "      <th>TA</th>\n",
       "      <th>Exposure</th>\n",
       "      <th>Contrast</th>\n",
       "      <th>Noise</th>\n",
       "      <th>Slice</th>\n",
       "      <th>Flickering</th>\n",
       "    </tr>\n",
       "  </thead>\n",
       "  <tbody>\n",
       "    <tr>\n",
       "      <th>0</th>\n",
       "      <td>0.420239</td>\n",
       "      <td>0.179627</td>\n",
       "      <td>0.163113</td>\n",
       "      <td>0.665495</td>\n",
       "      <td>0.042524</td>\n",
       "      <td>0.545950</td>\n",
       "      <td>0.602629</td>\n",
       "      <td>0.243211</td>\n",
       "      <td>0.094779</td>\n",
       "      <td>0.201723</td>\n",
       "    </tr>\n",
       "    <tr>\n",
       "      <th>1</th>\n",
       "      <td>0.438120</td>\n",
       "      <td>0.745824</td>\n",
       "      <td>0.035076</td>\n",
       "      <td>0.453690</td>\n",
       "      <td>0.092480</td>\n",
       "      <td>0.552964</td>\n",
       "      <td>0.629697</td>\n",
       "      <td>0.229865</td>\n",
       "      <td>0.098284</td>\n",
       "      <td>0.199516</td>\n",
       "    </tr>\n",
       "    <tr>\n",
       "      <th>2</th>\n",
       "      <td>0.349282</td>\n",
       "      <td>0.584025</td>\n",
       "      <td>0.005737</td>\n",
       "      <td>0.516652</td>\n",
       "      <td>0.084288</td>\n",
       "      <td>0.552314</td>\n",
       "      <td>0.441798</td>\n",
       "      <td>0.232383</td>\n",
       "      <td>0.118241</td>\n",
       "      <td>0.181310</td>\n",
       "    </tr>\n",
       "    <tr>\n",
       "      <th>3</th>\n",
       "      <td>0.418623</td>\n",
       "      <td>0.631862</td>\n",
       "      <td>0.003654</td>\n",
       "      <td>0.470224</td>\n",
       "      <td>0.088398</td>\n",
       "      <td>0.563380</td>\n",
       "      <td>0.544888</td>\n",
       "      <td>0.234342</td>\n",
       "      <td>0.187917</td>\n",
       "      <td>0.171461</td>\n",
       "    </tr>\n",
       "    <tr>\n",
       "      <th>4</th>\n",
       "      <td>0.409510</td>\n",
       "      <td>0.360716</td>\n",
       "      <td>0.065364</td>\n",
       "      <td>0.502516</td>\n",
       "      <td>0.057878</td>\n",
       "      <td>0.553991</td>\n",
       "      <td>0.442137</td>\n",
       "      <td>0.147559</td>\n",
       "      <td>0.175424</td>\n",
       "      <td>0.137817</td>\n",
       "    </tr>\n",
       "    <tr>\n",
       "      <th>5</th>\n",
       "      <td>0.465047</td>\n",
       "      <td>0.221501</td>\n",
       "      <td>0.057905</td>\n",
       "      <td>0.581873</td>\n",
       "      <td>0.052544</td>\n",
       "      <td>0.521542</td>\n",
       "      <td>0.609689</td>\n",
       "      <td>0.167059</td>\n",
       "      <td>0.052793</td>\n",
       "      <td>0.255638</td>\n",
       "    </tr>\n",
       "    <tr>\n",
       "      <th>6</th>\n",
       "      <td>0.666516</td>\n",
       "      <td>0.000045</td>\n",
       "      <td>0.000000</td>\n",
       "      <td>0.002906</td>\n",
       "      <td>0.000178</td>\n",
       "      <td>0.032864</td>\n",
       "      <td>0.000109</td>\n",
       "      <td>0.001336</td>\n",
       "      <td>0.034055</td>\n",
       "      <td>0.000000</td>\n",
       "    </tr>\n",
       "    <tr>\n",
       "      <th>7</th>\n",
       "      <td>0.393279</td>\n",
       "      <td>0.400737</td>\n",
       "      <td>0.011405</td>\n",
       "      <td>0.598612</td>\n",
       "      <td>0.139385</td>\n",
       "      <td>0.561336</td>\n",
       "      <td>0.397514</td>\n",
       "      <td>0.233382</td>\n",
       "      <td>0.068487</td>\n",
       "      <td>0.134011</td>\n",
       "    </tr>\n",
       "    <tr>\n",
       "      <th>8</th>\n",
       "      <td>0.461755</td>\n",
       "      <td>0.291107</td>\n",
       "      <td>0.474303</td>\n",
       "      <td>0.516262</td>\n",
       "      <td>0.357118</td>\n",
       "      <td>0.608234</td>\n",
       "      <td>0.392475</td>\n",
       "      <td>0.244254</td>\n",
       "      <td>0.193960</td>\n",
       "      <td>0.279689</td>\n",
       "    </tr>\n",
       "    <tr>\n",
       "      <th>9</th>\n",
       "      <td>0.428853</td>\n",
       "      <td>0.590756</td>\n",
       "      <td>0.131719</td>\n",
       "      <td>0.469517</td>\n",
       "      <td>0.095856</td>\n",
       "      <td>0.549296</td>\n",
       "      <td>0.515157</td>\n",
       "      <td>0.239556</td>\n",
       "      <td>0.092700</td>\n",
       "      <td>0.147294</td>\n",
       "    </tr>\n",
       "  </tbody>\n",
       "</table>\n",
       "</div>"
      ],
      "text/plain": [
       "   Blockiness        SA  Blockloss      Blur        TA  Exposure  Contrast  \\\n",
       "0    0.420239  0.179627   0.163113  0.665495  0.042524  0.545950  0.602629   \n",
       "1    0.438120  0.745824   0.035076  0.453690  0.092480  0.552964  0.629697   \n",
       "2    0.349282  0.584025   0.005737  0.516652  0.084288  0.552314  0.441798   \n",
       "3    0.418623  0.631862   0.003654  0.470224  0.088398  0.563380  0.544888   \n",
       "4    0.409510  0.360716   0.065364  0.502516  0.057878  0.553991  0.442137   \n",
       "5    0.465047  0.221501   0.057905  0.581873  0.052544  0.521542  0.609689   \n",
       "6    0.666516  0.000045   0.000000  0.002906  0.000178  0.032864  0.000109   \n",
       "7    0.393279  0.400737   0.011405  0.598612  0.139385  0.561336  0.397514   \n",
       "8    0.461755  0.291107   0.474303  0.516262  0.357118  0.608234  0.392475   \n",
       "9    0.428853  0.590756   0.131719  0.469517  0.095856  0.549296  0.515157   \n",
       "\n",
       "      Noise     Slice  Flickering  \n",
       "0  0.243211  0.094779    0.201723  \n",
       "1  0.229865  0.098284    0.199516  \n",
       "2  0.232383  0.118241    0.181310  \n",
       "3  0.234342  0.187917    0.171461  \n",
       "4  0.147559  0.175424    0.137817  \n",
       "5  0.167059  0.052793    0.255638  \n",
       "6  0.001336  0.034055    0.000000  \n",
       "7  0.233382  0.068487    0.134011  \n",
       "8  0.244254  0.193960    0.279689  \n",
       "9  0.239556  0.092700    0.147294  "
      ]
     },
     "execution_count": 3,
     "metadata": {},
     "output_type": "execute_result"
    }
   ],
   "source": [
    "data = pd.read_csv('all_DB_data.csv',names = columns_name)\n",
    "target = pd.read_csv('all_DB_target.csv',names = column_name)\n",
    "\n",
    "data.head(10)\n"
   ]
  },
  {
   "cell_type": "code",
   "execution_count": 4,
   "id": "5e76dd03",
   "metadata": {},
   "outputs": [
    {
     "data": {
      "text/html": [
       "<div>\n",
       "<style scoped>\n",
       "    .dataframe tbody tr th:only-of-type {\n",
       "        vertical-align: middle;\n",
       "    }\n",
       "\n",
       "    .dataframe tbody tr th {\n",
       "        vertical-align: top;\n",
       "    }\n",
       "\n",
       "    .dataframe thead th {\n",
       "        text-align: right;\n",
       "    }\n",
       "</style>\n",
       "<table border=\"1\" class=\"dataframe\">\n",
       "  <thead>\n",
       "    <tr style=\"text-align: right;\">\n",
       "      <th></th>\n",
       "      <th>Category</th>\n",
       "    </tr>\n",
       "  </thead>\n",
       "  <tbody>\n",
       "    <tr>\n",
       "      <th>0</th>\n",
       "      <td>0</td>\n",
       "    </tr>\n",
       "    <tr>\n",
       "      <th>1</th>\n",
       "      <td>0</td>\n",
       "    </tr>\n",
       "    <tr>\n",
       "      <th>2</th>\n",
       "      <td>0</td>\n",
       "    </tr>\n",
       "    <tr>\n",
       "      <th>3</th>\n",
       "      <td>0</td>\n",
       "    </tr>\n",
       "    <tr>\n",
       "      <th>4</th>\n",
       "      <td>0</td>\n",
       "    </tr>\n",
       "    <tr>\n",
       "      <th>5</th>\n",
       "      <td>0</td>\n",
       "    </tr>\n",
       "    <tr>\n",
       "      <th>6</th>\n",
       "      <td>0</td>\n",
       "    </tr>\n",
       "    <tr>\n",
       "      <th>7</th>\n",
       "      <td>0</td>\n",
       "    </tr>\n",
       "    <tr>\n",
       "      <th>8</th>\n",
       "      <td>0</td>\n",
       "    </tr>\n",
       "    <tr>\n",
       "      <th>9</th>\n",
       "      <td>0</td>\n",
       "    </tr>\n",
       "  </tbody>\n",
       "</table>\n",
       "</div>"
      ],
      "text/plain": [
       "   Category\n",
       "0         0\n",
       "1         0\n",
       "2         0\n",
       "3         0\n",
       "4         0\n",
       "5         0\n",
       "6         0\n",
       "7         0\n",
       "8         0\n",
       "9         0"
      ]
     },
     "execution_count": 4,
     "metadata": {},
     "output_type": "execute_result"
    }
   ],
   "source": [
    "target.head(10)"
   ]
  },
  {
   "cell_type": "code",
   "execution_count": 5,
   "id": "d1d4fbf7",
   "metadata": {},
   "outputs": [
    {
     "data": {
      "text/plain": [
       "Blockiness    0\n",
       "SA            0\n",
       "Blockloss     0\n",
       "Blur          0\n",
       "TA            0\n",
       "Exposure      0\n",
       "Contrast      0\n",
       "Noise         0\n",
       "Slice         0\n",
       "Flickering    0\n",
       "dtype: int64"
      ]
     },
     "execution_count": 5,
     "metadata": {},
     "output_type": "execute_result"
    }
   ],
   "source": [
    "data.isnull().sum()"
   ]
  },
  {
   "cell_type": "code",
   "execution_count": 6,
   "id": "f356d751",
   "metadata": {},
   "outputs": [
    {
     "data": {
      "text/plain": [
       "Category    68\n",
       "dtype: int64"
      ]
     },
     "execution_count": 6,
     "metadata": {},
     "output_type": "execute_result"
    }
   ],
   "source": [
    "target[target['Category']==0].count()"
   ]
  },
  {
   "cell_type": "code",
   "execution_count": 7,
   "id": "ac481b10",
   "metadata": {},
   "outputs": [
    {
     "data": {
      "text/plain": [
       "Category    340\n",
       "dtype: int64"
      ]
     },
     "execution_count": 7,
     "metadata": {},
     "output_type": "execute_result"
    }
   ],
   "source": [
    "target[target['Category']==1].count()"
   ]
  },
  {
   "cell_type": "code",
   "execution_count": 8,
   "id": "6d4574eb",
   "metadata": {},
   "outputs": [
    {
     "data": {
      "text/plain": [
       "Blockiness    408\n",
       "SA            408\n",
       "Blockloss     408\n",
       "Blur          408\n",
       "TA            408\n",
       "Exposure      408\n",
       "Contrast      408\n",
       "Noise         408\n",
       "Slice         408\n",
       "Flickering    408\n",
       "dtype: int64"
      ]
     },
     "execution_count": 8,
     "metadata": {},
     "output_type": "execute_result"
    }
   ],
   "source": [
    "data.count()"
   ]
  },
  {
   "cell_type": "code",
   "execution_count": 9,
   "id": "d706a56a",
   "metadata": {},
   "outputs": [
    {
     "data": {
      "text/html": [
       "<div>\n",
       "<style scoped>\n",
       "    .dataframe tbody tr th:only-of-type {\n",
       "        vertical-align: middle;\n",
       "    }\n",
       "\n",
       "    .dataframe tbody tr th {\n",
       "        vertical-align: top;\n",
       "    }\n",
       "\n",
       "    .dataframe thead th {\n",
       "        text-align: right;\n",
       "    }\n",
       "</style>\n",
       "<table border=\"1\" class=\"dataframe\">\n",
       "  <thead>\n",
       "    <tr style=\"text-align: right;\">\n",
       "      <th></th>\n",
       "      <th>Category</th>\n",
       "    </tr>\n",
       "    <tr>\n",
       "      <th>Category</th>\n",
       "      <th></th>\n",
       "    </tr>\n",
       "  </thead>\n",
       "  <tbody>\n",
       "    <tr>\n",
       "      <th>0</th>\n",
       "      <td>68</td>\n",
       "    </tr>\n",
       "    <tr>\n",
       "      <th>1</th>\n",
       "      <td>340</td>\n",
       "    </tr>\n",
       "  </tbody>\n",
       "</table>\n",
       "</div>"
      ],
      "text/plain": [
       "          Category\n",
       "Category          \n",
       "0               68\n",
       "1              340"
      ]
     },
     "execution_count": 9,
     "metadata": {},
     "output_type": "execute_result"
    }
   ],
   "source": [
    "target.groupby('Category')[['Category']].count()"
   ]
  },
  {
   "cell_type": "code",
   "execution_count": 10,
   "id": "4a0e360b",
   "metadata": {},
   "outputs": [],
   "source": [
    "X = data\n",
    "Y = target"
   ]
  },
  {
   "cell_type": "code",
   "execution_count": 11,
   "id": "90819a1e",
   "metadata": {},
   "outputs": [
    {
     "data": {
      "text/plain": [
       "(408, 10)"
      ]
     },
     "execution_count": 11,
     "metadata": {},
     "output_type": "execute_result"
    }
   ],
   "source": [
    "X.shape"
   ]
  },
  {
   "cell_type": "code",
   "execution_count": 12,
   "id": "3894f4c3",
   "metadata": {},
   "outputs": [
    {
     "data": {
      "text/plain": [
       "(408, 1)"
      ]
     },
     "execution_count": 12,
     "metadata": {},
     "output_type": "execute_result"
    }
   ],
   "source": [
    "Y.shape"
   ]
  },
  {
   "cell_type": "code",
   "execution_count": 14,
   "id": "4d4ad440",
   "metadata": {},
   "outputs": [],
   "source": [
    "from sklearn.model_selection import train_test_split\n",
    "X_train, X_test, Y_train, Y_test = train_test_split(X, Y, test_size=0.2)"
   ]
  },
  {
   "cell_type": "code",
   "execution_count": 15,
   "id": "b6caadda",
   "metadata": {},
   "outputs": [],
   "source": [
    "classifiers = [\n",
    "    KNeighborsClassifier(3),\n",
    "    SVC(kernel=\"linear\", C=0.025),\n",
    "    SVC(kernel=\"poly\", degree=3, C=0.025),\n",
    "    SVC(kernel=\"rbf\", C=1, gamma=2),\n",
    "    GaussianProcessClassifier(1.0 * RBF(1.0)),\n",
    "    GradientBoostingClassifier(n_estimators=100, learning_rate=1.0),\n",
    "    DecisionTreeClassifier(max_depth=5),\n",
    "    ExtraTreesClassifier(n_estimators=10, min_samples_split=2),\n",
    "    RandomForestClassifier(max_depth=5, n_estimators=100),\n",
    "    MLPClassifier(alpha=1, max_iter=1000),\n",
    "    AdaBoostClassifier(n_estimators=100),\n",
    "    GaussianNB(),\n",
    "    QuadraticDiscriminantAnalysis(),\n",
    "    SGDClassifier(loss=\"hinge\", penalty=\"l2\")]"
   ]
  },
  {
   "cell_type": "code",
   "execution_count": 16,
   "id": "648bd33f",
   "metadata": {},
   "outputs": [],
   "source": [
    "names = [\"Nearest_Neighbors\", \"Linear_SVM\", \"Polynomial_SVM\", \"RBF_SVM\", \"Gaussian_Process\",\n",
    "         \"Gradient_Boosting\", \"Decision_Tree\", \"Extra_Trees\", \"Random_Forest\", \"Neural_Net\", \"AdaBoost\",\n",
    "         \"Naive_Bayes\", \"QDA\", \"SGD\"]"
   ]
  },
  {
   "cell_type": "code",
   "execution_count": 18,
   "id": "71e4e4f2",
   "metadata": {},
   "outputs": [
    {
     "name": "stderr",
     "output_type": "stream",
     "text": [
      "c:\\users\\user_amp_107\\pycharmprojects\\imageanalysis\\venv\\lib\\site-packages\\sklearn\\neighbors\\_classification.py:198: DataConversionWarning: A column-vector y was passed when a 1d array was expected. Please change the shape of y to (n_samples,), for example using ravel().\n",
      "  return self._fit(X, y)\n",
      "c:\\users\\user_amp_107\\pycharmprojects\\imageanalysis\\venv\\lib\\site-packages\\sklearn\\utils\\validation.py:993: DataConversionWarning: A column-vector y was passed when a 1d array was expected. Please change the shape of y to (n_samples, ), for example using ravel().\n",
      "  y = column_or_1d(y, warn=True)\n",
      "c:\\users\\user_amp_107\\pycharmprojects\\imageanalysis\\venv\\lib\\site-packages\\sklearn\\utils\\validation.py:993: DataConversionWarning: A column-vector y was passed when a 1d array was expected. Please change the shape of y to (n_samples, ), for example using ravel().\n",
      "  y = column_or_1d(y, warn=True)\n",
      "c:\\users\\user_amp_107\\pycharmprojects\\imageanalysis\\venv\\lib\\site-packages\\sklearn\\utils\\validation.py:993: DataConversionWarning: A column-vector y was passed when a 1d array was expected. Please change the shape of y to (n_samples, ), for example using ravel().\n",
      "  y = column_or_1d(y, warn=True)\n",
      "c:\\users\\user_amp_107\\pycharmprojects\\imageanalysis\\venv\\lib\\site-packages\\sklearn\\utils\\validation.py:993: DataConversionWarning: A column-vector y was passed when a 1d array was expected. Please change the shape of y to (n_samples, ), for example using ravel().\n",
      "  y = column_or_1d(y, warn=True)\n",
      "c:\\users\\user_amp_107\\pycharmprojects\\imageanalysis\\venv\\lib\\site-packages\\sklearn\\ensemble\\_gb.py:494: DataConversionWarning: A column-vector y was passed when a 1d array was expected. Please change the shape of y to (n_samples, ), for example using ravel().\n",
      "  y = column_or_1d(y, warn=True)\n",
      "C:\\Users\\user_amp_107\\AppData\\Local\\Temp\\ipykernel_13596\\2235621747.py:3: DataConversionWarning: A column-vector y was passed when a 1d array was expected. Please change the shape of y to (n_samples,), for example using ravel().\n",
      "  clf.fit(X_train, Y_train)\n",
      "C:\\Users\\user_amp_107\\AppData\\Local\\Temp\\ipykernel_13596\\2235621747.py:3: DataConversionWarning: A column-vector y was passed when a 1d array was expected. Please change the shape of y to (n_samples,), for example using ravel().\n",
      "  clf.fit(X_train, Y_train)\n",
      "c:\\users\\user_amp_107\\pycharmprojects\\imageanalysis\\venv\\lib\\site-packages\\sklearn\\neural_network\\_multilayer_perceptron.py:1109: DataConversionWarning: A column-vector y was passed when a 1d array was expected. Please change the shape of y to (n_samples, ), for example using ravel().\n",
      "  y = column_or_1d(y, warn=True)\n",
      "c:\\users\\user_amp_107\\pycharmprojects\\imageanalysis\\venv\\lib\\site-packages\\sklearn\\utils\\validation.py:993: DataConversionWarning: A column-vector y was passed when a 1d array was expected. Please change the shape of y to (n_samples, ), for example using ravel().\n",
      "  y = column_or_1d(y, warn=True)\n",
      "c:\\users\\user_amp_107\\pycharmprojects\\imageanalysis\\venv\\lib\\site-packages\\sklearn\\utils\\validation.py:993: DataConversionWarning: A column-vector y was passed when a 1d array was expected. Please change the shape of y to (n_samples, ), for example using ravel().\n",
      "  y = column_or_1d(y, warn=True)\n",
      "c:\\users\\user_amp_107\\pycharmprojects\\imageanalysis\\venv\\lib\\site-packages\\sklearn\\utils\\validation.py:993: DataConversionWarning: A column-vector y was passed when a 1d array was expected. Please change the shape of y to (n_samples, ), for example using ravel().\n",
      "  y = column_or_1d(y, warn=True)\n",
      "c:\\users\\user_amp_107\\pycharmprojects\\imageanalysis\\venv\\lib\\site-packages\\sklearn\\utils\\validation.py:993: DataConversionWarning: A column-vector y was passed when a 1d array was expected. Please change the shape of y to (n_samples, ), for example using ravel().\n",
      "  y = column_or_1d(y, warn=True)\n"
     ]
    }
   ],
   "source": [
    "scores = []\n",
    "for name, clf in zip(names, classifiers):\n",
    "    clf.fit(X_train, Y_train)\n",
    "    score = clf.score(X_test, Y_test)\n",
    "    scores.append(score)"
   ]
  },
  {
   "cell_type": "code",
   "execution_count": 19,
   "id": "bdf6c77c",
   "metadata": {},
   "outputs": [
    {
     "data": {
      "text/plain": [
       "[0.9634146341463414,\n",
       " 0.7560975609756098,\n",
       " 0.9634146341463414,\n",
       " 0.9512195121951219,\n",
       " 0.9512195121951219,\n",
       " 0.9512195121951219,\n",
       " 0.9390243902439024,\n",
       " 0.9634146341463414,\n",
       " 0.975609756097561,\n",
       " 0.9390243902439024,\n",
       " 0.975609756097561,\n",
       " 0.926829268292683,\n",
       " 0.9390243902439024,\n",
       " 0.9390243902439024]"
      ]
     },
     "execution_count": 19,
     "metadata": {},
     "output_type": "execute_result"
    }
   ],
   "source": [
    "scores"
   ]
  },
  {
   "cell_type": "code",
   "execution_count": 20,
   "id": "76d9edc6",
   "metadata": {},
   "outputs": [
    {
     "data": {
      "text/html": [
       "<div>\n",
       "<style scoped>\n",
       "    .dataframe tbody tr th:only-of-type {\n",
       "        vertical-align: middle;\n",
       "    }\n",
       "\n",
       "    .dataframe tbody tr th {\n",
       "        vertical-align: top;\n",
       "    }\n",
       "\n",
       "    .dataframe thead th {\n",
       "        text-align: right;\n",
       "    }\n",
       "</style>\n",
       "<table border=\"1\" class=\"dataframe\">\n",
       "  <thead>\n",
       "    <tr style=\"text-align: right;\">\n",
       "      <th></th>\n",
       "      <th>name</th>\n",
       "      <th>score</th>\n",
       "    </tr>\n",
       "  </thead>\n",
       "  <tbody>\n",
       "    <tr>\n",
       "      <th>0</th>\n",
       "      <td>Nearest_Neighbors</td>\n",
       "      <td>0.963415</td>\n",
       "    </tr>\n",
       "    <tr>\n",
       "      <th>1</th>\n",
       "      <td>Linear_SVM</td>\n",
       "      <td>0.756098</td>\n",
       "    </tr>\n",
       "    <tr>\n",
       "      <th>2</th>\n",
       "      <td>Polynomial_SVM</td>\n",
       "      <td>0.963415</td>\n",
       "    </tr>\n",
       "    <tr>\n",
       "      <th>3</th>\n",
       "      <td>RBF_SVM</td>\n",
       "      <td>0.951220</td>\n",
       "    </tr>\n",
       "    <tr>\n",
       "      <th>4</th>\n",
       "      <td>Gaussian_Process</td>\n",
       "      <td>0.951220</td>\n",
       "    </tr>\n",
       "    <tr>\n",
       "      <th>5</th>\n",
       "      <td>Gradient_Boosting</td>\n",
       "      <td>0.951220</td>\n",
       "    </tr>\n",
       "    <tr>\n",
       "      <th>6</th>\n",
       "      <td>Decision_Tree</td>\n",
       "      <td>0.939024</td>\n",
       "    </tr>\n",
       "    <tr>\n",
       "      <th>7</th>\n",
       "      <td>Extra_Trees</td>\n",
       "      <td>0.963415</td>\n",
       "    </tr>\n",
       "    <tr>\n",
       "      <th>8</th>\n",
       "      <td>Random_Forest</td>\n",
       "      <td>0.975610</td>\n",
       "    </tr>\n",
       "    <tr>\n",
       "      <th>9</th>\n",
       "      <td>Neural_Net</td>\n",
       "      <td>0.939024</td>\n",
       "    </tr>\n",
       "    <tr>\n",
       "      <th>10</th>\n",
       "      <td>AdaBoost</td>\n",
       "      <td>0.975610</td>\n",
       "    </tr>\n",
       "    <tr>\n",
       "      <th>11</th>\n",
       "      <td>Naive_Bayes</td>\n",
       "      <td>0.926829</td>\n",
       "    </tr>\n",
       "    <tr>\n",
       "      <th>12</th>\n",
       "      <td>QDA</td>\n",
       "      <td>0.939024</td>\n",
       "    </tr>\n",
       "    <tr>\n",
       "      <th>13</th>\n",
       "      <td>SGD</td>\n",
       "      <td>0.939024</td>\n",
       "    </tr>\n",
       "  </tbody>\n",
       "</table>\n",
       "</div>"
      ],
      "text/plain": [
       "                 name     score\n",
       "0   Nearest_Neighbors  0.963415\n",
       "1          Linear_SVM  0.756098\n",
       "2      Polynomial_SVM  0.963415\n",
       "3             RBF_SVM  0.951220\n",
       "4    Gaussian_Process  0.951220\n",
       "5   Gradient_Boosting  0.951220\n",
       "6       Decision_Tree  0.939024\n",
       "7         Extra_Trees  0.963415\n",
       "8       Random_Forest  0.975610\n",
       "9          Neural_Net  0.939024\n",
       "10           AdaBoost  0.975610\n",
       "11        Naive_Bayes  0.926829\n",
       "12                QDA  0.939024\n",
       "13                SGD  0.939024"
      ]
     },
     "execution_count": 20,
     "metadata": {},
     "output_type": "execute_result"
    }
   ],
   "source": [
    "df = pd.DataFrame()\n",
    "df['name'] = names\n",
    "df['score'] = scores\n",
    "df"
   ]
  },
  {
   "cell_type": "code",
   "execution_count": 21,
   "id": "c74608a9",
   "metadata": {},
   "outputs": [],
   "source": [
    "import seaborn as sns"
   ]
  },
  {
   "cell_type": "code",
   "execution_count": 22,
   "id": "47c65179",
   "metadata": {},
   "outputs": [
    {
     "data": {
      "text/html": [
       "<style type=\"text/css\">\n",
       "#T_25bf3_row0_col1, #T_25bf3_row2_col1, #T_25bf3_row7_col1 {\n",
       "  background-color: #0d860d;\n",
       "  color: #f1f1f1;\n",
       "}\n",
       "#T_25bf3_row1_col1 {\n",
       "  background-color: #ebf3eb;\n",
       "  color: #000000;\n",
       "}\n",
       "#T_25bf3_row3_col1, #T_25bf3_row4_col1, #T_25bf3_row5_col1 {\n",
       "  background-color: #1a8d1a;\n",
       "  color: #f1f1f1;\n",
       "}\n",
       "#T_25bf3_row6_col1, #T_25bf3_row9_col1, #T_25bf3_row12_col1, #T_25bf3_row13_col1 {\n",
       "  background-color: #279327;\n",
       "  color: #f1f1f1;\n",
       "}\n",
       "#T_25bf3_row8_col1, #T_25bf3_row10_col1 {\n",
       "  background-color: #008000;\n",
       "  color: #f1f1f1;\n",
       "}\n",
       "#T_25bf3_row11_col1 {\n",
       "  background-color: #349934;\n",
       "  color: #f1f1f1;\n",
       "}\n",
       "</style>\n",
       "<table id=\"T_25bf3\">\n",
       "  <thead>\n",
       "    <tr>\n",
       "      <th class=\"blank level0\" >&nbsp;</th>\n",
       "      <th id=\"T_25bf3_level0_col0\" class=\"col_heading level0 col0\" >name</th>\n",
       "      <th id=\"T_25bf3_level0_col1\" class=\"col_heading level0 col1\" >score</th>\n",
       "    </tr>\n",
       "  </thead>\n",
       "  <tbody>\n",
       "    <tr>\n",
       "      <th id=\"T_25bf3_level0_row0\" class=\"row_heading level0 row0\" >0</th>\n",
       "      <td id=\"T_25bf3_row0_col0\" class=\"data row0 col0\" >Nearest_Neighbors</td>\n",
       "      <td id=\"T_25bf3_row0_col1\" class=\"data row0 col1\" >0.963415</td>\n",
       "    </tr>\n",
       "    <tr>\n",
       "      <th id=\"T_25bf3_level0_row1\" class=\"row_heading level0 row1\" >1</th>\n",
       "      <td id=\"T_25bf3_row1_col0\" class=\"data row1 col0\" >Linear_SVM</td>\n",
       "      <td id=\"T_25bf3_row1_col1\" class=\"data row1 col1\" >0.756098</td>\n",
       "    </tr>\n",
       "    <tr>\n",
       "      <th id=\"T_25bf3_level0_row2\" class=\"row_heading level0 row2\" >2</th>\n",
       "      <td id=\"T_25bf3_row2_col0\" class=\"data row2 col0\" >Polynomial_SVM</td>\n",
       "      <td id=\"T_25bf3_row2_col1\" class=\"data row2 col1\" >0.963415</td>\n",
       "    </tr>\n",
       "    <tr>\n",
       "      <th id=\"T_25bf3_level0_row3\" class=\"row_heading level0 row3\" >3</th>\n",
       "      <td id=\"T_25bf3_row3_col0\" class=\"data row3 col0\" >RBF_SVM</td>\n",
       "      <td id=\"T_25bf3_row3_col1\" class=\"data row3 col1\" >0.951220</td>\n",
       "    </tr>\n",
       "    <tr>\n",
       "      <th id=\"T_25bf3_level0_row4\" class=\"row_heading level0 row4\" >4</th>\n",
       "      <td id=\"T_25bf3_row4_col0\" class=\"data row4 col0\" >Gaussian_Process</td>\n",
       "      <td id=\"T_25bf3_row4_col1\" class=\"data row4 col1\" >0.951220</td>\n",
       "    </tr>\n",
       "    <tr>\n",
       "      <th id=\"T_25bf3_level0_row5\" class=\"row_heading level0 row5\" >5</th>\n",
       "      <td id=\"T_25bf3_row5_col0\" class=\"data row5 col0\" >Gradient_Boosting</td>\n",
       "      <td id=\"T_25bf3_row5_col1\" class=\"data row5 col1\" >0.951220</td>\n",
       "    </tr>\n",
       "    <tr>\n",
       "      <th id=\"T_25bf3_level0_row6\" class=\"row_heading level0 row6\" >6</th>\n",
       "      <td id=\"T_25bf3_row6_col0\" class=\"data row6 col0\" >Decision_Tree</td>\n",
       "      <td id=\"T_25bf3_row6_col1\" class=\"data row6 col1\" >0.939024</td>\n",
       "    </tr>\n",
       "    <tr>\n",
       "      <th id=\"T_25bf3_level0_row7\" class=\"row_heading level0 row7\" >7</th>\n",
       "      <td id=\"T_25bf3_row7_col0\" class=\"data row7 col0\" >Extra_Trees</td>\n",
       "      <td id=\"T_25bf3_row7_col1\" class=\"data row7 col1\" >0.963415</td>\n",
       "    </tr>\n",
       "    <tr>\n",
       "      <th id=\"T_25bf3_level0_row8\" class=\"row_heading level0 row8\" >8</th>\n",
       "      <td id=\"T_25bf3_row8_col0\" class=\"data row8 col0\" >Random_Forest</td>\n",
       "      <td id=\"T_25bf3_row8_col1\" class=\"data row8 col1\" >0.975610</td>\n",
       "    </tr>\n",
       "    <tr>\n",
       "      <th id=\"T_25bf3_level0_row9\" class=\"row_heading level0 row9\" >9</th>\n",
       "      <td id=\"T_25bf3_row9_col0\" class=\"data row9 col0\" >Neural_Net</td>\n",
       "      <td id=\"T_25bf3_row9_col1\" class=\"data row9 col1\" >0.939024</td>\n",
       "    </tr>\n",
       "    <tr>\n",
       "      <th id=\"T_25bf3_level0_row10\" class=\"row_heading level0 row10\" >10</th>\n",
       "      <td id=\"T_25bf3_row10_col0\" class=\"data row10 col0\" >AdaBoost</td>\n",
       "      <td id=\"T_25bf3_row10_col1\" class=\"data row10 col1\" >0.975610</td>\n",
       "    </tr>\n",
       "    <tr>\n",
       "      <th id=\"T_25bf3_level0_row11\" class=\"row_heading level0 row11\" >11</th>\n",
       "      <td id=\"T_25bf3_row11_col0\" class=\"data row11 col0\" >Naive_Bayes</td>\n",
       "      <td id=\"T_25bf3_row11_col1\" class=\"data row11 col1\" >0.926829</td>\n",
       "    </tr>\n",
       "    <tr>\n",
       "      <th id=\"T_25bf3_level0_row12\" class=\"row_heading level0 row12\" >12</th>\n",
       "      <td id=\"T_25bf3_row12_col0\" class=\"data row12 col0\" >QDA</td>\n",
       "      <td id=\"T_25bf3_row12_col1\" class=\"data row12 col1\" >0.939024</td>\n",
       "    </tr>\n",
       "    <tr>\n",
       "      <th id=\"T_25bf3_level0_row13\" class=\"row_heading level0 row13\" >13</th>\n",
       "      <td id=\"T_25bf3_row13_col0\" class=\"data row13 col0\" >SGD</td>\n",
       "      <td id=\"T_25bf3_row13_col1\" class=\"data row13 col1\" >0.939024</td>\n",
       "    </tr>\n",
       "  </tbody>\n",
       "</table>\n"
      ],
      "text/plain": [
       "<pandas.io.formats.style.Styler at 0x241a7e8fc10>"
      ]
     },
     "execution_count": 22,
     "metadata": {},
     "output_type": "execute_result"
    }
   ],
   "source": [
    "cm = sns.light_palette(\"green\", as_cmap=True)\n",
    "s = df.style.background_gradient(cmap=cm)\n",
    "s"
   ]
  },
  {
   "cell_type": "code",
   "execution_count": 23,
   "id": "7c66f4b6",
   "metadata": {},
   "outputs": [
    {
     "data": {
      "image/png": "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\n",
      "text/plain": [
       "<Figure size 432x288 with 1 Axes>"
      ]
     },
     "metadata": {
      "needs_background": "light"
     },
     "output_type": "display_data"
    }
   ],
   "source": [
    "sns.set(style=\"whitegrid\")\n",
    "ax = sns.barplot(y=\"name\", x=\"score\", data=df)"
   ]
  },
  {
   "cell_type": "code",
   "execution_count": null,
   "id": "dc7efe73",
   "metadata": {},
   "outputs": [],
   "source": []
  },
  {
   "cell_type": "code",
   "execution_count": null,
   "id": "9f75ca19",
   "metadata": {},
   "outputs": [],
   "source": []
  },
  {
   "cell_type": "code",
   "execution_count": null,
   "id": "871b29cf",
   "metadata": {},
   "outputs": [],
   "source": []
  },
  {
   "cell_type": "code",
   "execution_count": null,
   "id": "e3ef1929",
   "metadata": {},
   "outputs": [],
   "source": []
  }
 ],
 "metadata": {
  "kernelspec": {
   "display_name": "Python 3 (ipykernel)",
   "language": "python",
   "name": "python3"
  },
  "language_info": {
   "codemirror_mode": {
    "name": "ipython",
    "version": 3
   },
   "file_extension": ".py",
   "mimetype": "text/x-python",
   "name": "python",
   "nbconvert_exporter": "python",
   "pygments_lexer": "ipython3",
   "version": "3.10.4"
  }
 },
 "nbformat": 4,
 "nbformat_minor": 5
}
